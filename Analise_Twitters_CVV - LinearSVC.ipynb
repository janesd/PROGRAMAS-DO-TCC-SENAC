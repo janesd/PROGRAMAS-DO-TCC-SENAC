{
 "cells": [
  {
   "cell_type": "markdown",
   "metadata": {},
   "source": [
    "## Analise_Twitters_CVV-Gera_Modelo.ipynb\n",
    "\n",
    "### Neste programa:\n",
    "1) Capturamos Twitters do @CVVoficial - param_busca = palavras chaves (suicidio, tristeza, morte, etc);<br>\n",
    "2) Limpamos os twitters, retirando stopwords, e caracteres desnecessários para análise;<br>\n",
    "3) Feita a classificação dos twitters lidos.\n",
    "   \n",
    "   \n",
    "Data: 07/08/2020"
   ]
  },
  {
   "cell_type": "markdown",
   "metadata": {},
   "source": [
    "### ==> CAPTURANDO TWITTERS"
   ]
  },
  {
   "cell_type": "code",
   "execution_count": 1,
   "metadata": {},
   "outputs": [],
   "source": [
    "lista_de_pesquisa = [\"suicidio\",\"tristeza\",\"depressao\",\"morte\",\"solidao\"]\n",
    "param_busca  = \" OR \".join(lista_de_pesquisa)\n",
    "nom_param_busca = \"diversos\""
   ]
  },
  {
   "cell_type": "code",
   "execution_count": 40,
   "metadata": {},
   "outputs": [],
   "source": [
    "# para excluir retweets \n",
    "param_busca =   param_busca +  ' -filter:retweets AND -filter:replies'"
   ]
  },
  {
   "cell_type": "code",
   "execution_count": 4,
   "metadata": {},
   "outputs": [],
   "source": [
    "# pip install twython"
   ]
  },
  {
   "cell_type": "code",
   "execution_count": 5,
   "metadata": {},
   "outputs": [],
   "source": [
    "from twython import Twython\n",
    "import time\n",
    "import csv"
   ]
  },
  {
   "cell_type": "code",
   "execution_count": 6,
   "metadata": {},
   "outputs": [],
   "source": [
    "def deEmojify(inputString):\n",
    "    return inputString.encode('cp1252', 'ignore').decode('cp1252')    "
   ]
  },
  {
   "cell_type": "code",
   "execution_count": 7,
   "metadata": {},
   "outputs": [],
   "source": [
    "#Token do twitter\n",
    "twitter = Twython('SCkEZ4vzW5DgTZ9VuYf3puxXp','bFR7I6ZzSzF4GO7culGBFbDT5IbBq5v4arlWk7Dc7lYsSf4ciO')"
   ]
  },
  {
   "cell_type": "code",
   "execution_count": 8,
   "metadata": {},
   "outputs": [],
   "source": [
    "import os\n",
    "#os.chdir('C:\\\\Users\\\\particular\\\\SERIQUE_TCC\\\\TCC\\\\DADOS\\\\')\n",
    "#os.getcwd()"
   ]
  },
  {
   "cell_type": "code",
   "execution_count": 11,
   "metadata": {},
   "outputs": [],
   "source": [
    "# arquivo fica com a data do dia da captura\n",
    "from datetime import datetime\n",
    "\n",
    "NomArq = 'twiter_cvv_' + nom_param_busca + '_' + str(datetime.now().strftime('%Y_%m_%d_%H_%M_%S')) + '.csv'"
   ]
  },
  {
   "cell_type": "code",
   "execution_count": 12,
   "metadata": {},
   "outputs": [],
   "source": [
    "#Busca pelos tweets contendo as palavras chave informadas, pesquisa página do CVV.\n",
    "#for status in twitter.search(q=param_busca + '(@CVVoficial) lang:pt since:2019-09-24', tweet_mode='extended', count=1000)['statuses']:\n",
    "for status in twitter.search(q=param_busca, tweet_mode='extended',  count=1000)['statuses']:\n",
    "    \n",
    "    user = status['user']['screen_name']  \n",
    "    text =  deEmojify(status['full_text']).replace('\\n', ' ')\n",
    "    ts = time.strftime('%Y-%m-%d %H:%M:%S', time.strptime(status['created_at'],'%a %b %d %H:%M:%S +0000 %Y'))\n",
    "    Date = ts                \n",
    "\n",
    "    with open(NomArq, 'a', newline='', encoding='cp1252') as csvFile:\n",
    "        row = [user, text, Date, '\\n']    \n",
    "        writer = csv.writer(csvFile, delimiter=\";\")\n",
    "        writer.writerow(row)\n",
    "    csvFile.close()\n"
   ]
  },
  {
   "cell_type": "markdown",
   "metadata": {},
   "source": [
    "%%javascript\n",
    "// run the first 19 cells\n",
    "var i;\n",
    "for(i=0; i<19; i++) {\n",
    "    Jupyter.notebook.execute_cells([i]);\n",
    "}\n",
    "\n",
    "// set the global in the 20th cell:\n",
    "Jupyter.notebook.execute_cells([19]);\n",
    "\n",
    "// run 2nd through 19th cells again:\n",
    "for(i=1; i<19; i++) {\n",
    "    Jupyter.notebook.execute_cells([i]);\n",
    "}"
   ]
  },
  {
   "cell_type": "markdown",
   "metadata": {},
   "source": [
    "### ==> LIMPANDO TWITTERS\n",
    "\n",
    "- Junta todos os arquivos do tipo *.csv que existirem no diretório para dentro de um único arquivo\n",
    "- Limpa caracteres desnecessários, deleta colunas desnecessárias"
   ]
  },
  {
   "cell_type": "code",
   "execution_count": 13,
   "metadata": {},
   "outputs": [
    {
     "name": "stderr",
     "output_type": "stream",
     "text": [
      "[nltk_data] Downloading package stopwords to\n",
      "[nltk_data]     C:\\Users\\particular\\AppData\\Roaming\\nltk_data...\n",
      "[nltk_data]   Package stopwords is already up-to-date!\n",
      "[nltk_data] Downloading package rslp to\n",
      "[nltk_data]     C:\\Users\\particular\\AppData\\Roaming\\nltk_data...\n",
      "[nltk_data]   Package rslp is already up-to-date!\n"
     ]
    }
   ],
   "source": [
    "import chardet\n",
    "import emoji\n",
    "import glob\n",
    "import nltk\n",
    "nltk.download('stopwords')\n",
    "nltk.download('rslp')\n",
    "import os\n",
    "import pandas as pd\n",
    "import re\n",
    "import regex\n",
    "from sklearn.feature_extraction.text import CountVectorizer\n",
    "from sklearn import metrics\n",
    "from sklearn.model_selection import cross_val_predict"
   ]
  },
  {
   "cell_type": "code",
   "execution_count": 14,
   "metadata": {},
   "outputs": [],
   "source": [
    "com_stemizacao = 'NAO'"
   ]
  },
  {
   "cell_type": "code",
   "execution_count": 15,
   "metadata": {},
   "outputs": [
    {
     "data": {
      "text/html": [
       "<div>\n",
       "<style scoped>\n",
       "    .dataframe tbody tr th:only-of-type {\n",
       "        vertical-align: middle;\n",
       "    }\n",
       "\n",
       "    .dataframe tbody tr th {\n",
       "        vertical-align: top;\n",
       "    }\n",
       "\n",
       "    .dataframe thead th {\n",
       "        text-align: right;\n",
       "    }\n",
       "</style>\n",
       "<table border=\"1\" class=\"dataframe\">\n",
       "  <thead>\n",
       "    <tr style=\"text-align: right;\">\n",
       "      <th></th>\n",
       "      <th>Usuario</th>\n",
       "      <th>Texto</th>\n",
       "      <th>Data</th>\n",
       "      <th>lixo</th>\n",
       "    </tr>\n",
       "  </thead>\n",
       "  <tbody>\n",
       "    <tr>\n",
       "      <th>0</th>\n",
       "      <td>Isaa_Artigas</td>\n",
       "      <td>Quando eu lembro q ainda tenho mais três dias ...</td>\n",
       "      <td>2020-09-02 01:46:57</td>\n",
       "      <td>\\n</td>\n",
       "    </tr>\n",
       "    <tr>\n",
       "      <th>1</th>\n",
       "      <td>thegealachgorm</td>\n",
       "      <td>Mataram um gatinho de rua de forma maldosa e c...</td>\n",
       "      <td>2020-09-02 01:46:55</td>\n",
       "      <td>\\n</td>\n",
       "    </tr>\n",
       "    <tr>\n",
       "      <th>2</th>\n",
       "      <td>X1VOIR</td>\n",
       "      <td>eu n sei se vocês sabem mas setembro amarelo é...</td>\n",
       "      <td>2020-09-02 01:46:54</td>\n",
       "      <td>\\n</td>\n",
       "    </tr>\n",
       "    <tr>\n",
       "      <th>3</th>\n",
       "      <td>ta_kayk</td>\n",
       "      <td>Simplesmente cansei de viver com essa tristeza</td>\n",
       "      <td>2020-09-02 01:46:53</td>\n",
       "      <td>\\n</td>\n",
       "    </tr>\n",
       "    <tr>\n",
       "      <th>4</th>\n",
       "      <td>Tc0Amanda</td>\n",
       "      <td>Dormir pensando que a tristeza vai embora é um...</td>\n",
       "      <td>2020-09-02 01:46:52</td>\n",
       "      <td>\\n</td>\n",
       "    </tr>\n",
       "  </tbody>\n",
       "</table>\n",
       "</div>"
      ],
      "text/plain": [
       "          Usuario                                              Texto  \\\n",
       "0    Isaa_Artigas  Quando eu lembro q ainda tenho mais três dias ...   \n",
       "1  thegealachgorm  Mataram um gatinho de rua de forma maldosa e c...   \n",
       "2          X1VOIR  eu n sei se vocês sabem mas setembro amarelo é...   \n",
       "3         ta_kayk     Simplesmente cansei de viver com essa tristeza   \n",
       "4       Tc0Amanda  Dormir pensando que a tristeza vai embora é um...   \n",
       "\n",
       "                  Data lixo  \n",
       "0  2020-09-02 01:46:57   \\n  \n",
       "1  2020-09-02 01:46:55   \\n  \n",
       "2  2020-09-02 01:46:54   \\n  \n",
       "3  2020-09-02 01:46:53   \\n  \n",
       "4  2020-09-02 01:46:52   \\n  "
      ]
     },
     "execution_count": 15,
     "metadata": {},
     "output_type": "execute_result"
    }
   ],
   "source": [
    "cabecalho = ['Usuario','Texto','Data','lixo']\n",
    "dataset = pd.read_csv(NomArq,  sep=';', header=None, names=cabecalho, encoding='cp1252')\n",
    "\n",
    "dataset.head()\n"
   ]
  },
  {
   "cell_type": "code",
   "execution_count": 16,
   "metadata": {},
   "outputs": [
    {
     "data": {
      "text/plain": [
       "0    Quando eu lembro q ainda tenho mais três dias p treinar me dá uma tristeza mas Qnd eu treino me dá um alívio kkk ó céus                                                                                                                                 \n",
       "1    Mataram um gatinho de rua de forma maldosa e cruel, eu tô tentando não pensar em como foi a morte, mas tô sentida, ainda mais o cabeça que era um gatinho tão dócil e defensor das outras gatas.                                                        \n",
       "2    eu n sei se vocês sabem mas setembro amarelo é dedicado a pessoas que sofrem de depressão/problemas psicólogicos, vcs podem SIM mandar um filho da puta se foder                                                                                        \n",
       "3    Simplesmente cansei de viver com essa tristeza                                                                                                                                                                                                          \n",
       "4    Dormir pensando que a tristeza vai embora é um caminho sem volta                                                                                                                                                                                        \n",
       "5    Passei o fds me acabando na cachaça pq tava triste com algumas situações aí o fds acabou e o que me resta é um vazio inexplicável e uma tristeza que me consome, aí agora to me acabando tomando a dose dupla das medicações na expectativa de melhorar.\n",
       "6    vo parar de escutar tristeza e vou dar um bilhão de streams em ice cream pq a lisa é mais importante q isso                                                                                                                                             \n",
       "7    Vejo algumas pessoas falando sobre estar mal ou suicídio e eu tenho tanta vontade de ajudar a pessoa e falar que vai ficar tudo bem, mas tenho muito medo de falar algo errado                                                                          \n",
       "8    n adianta falar em setembro \"suicídio não é uma opção\" e o resto do ano atacar pessoas multissexuais q n são bi                                                                                                                                         \n",
       "9    Só um piercing é capaz de cura minha tristeza                                                                                                                                                                                                           \n",
       "Name: Texto, dtype: object"
      ]
     },
     "execution_count": 16,
     "metadata": {},
     "output_type": "execute_result"
    }
   ],
   "source": [
    "# Expande o tamanho de exibição da coluna de texto\n",
    "pd.set_option('display.max_colwidth', -1)\n",
    "dataset.Texto.head(10)"
   ]
  },
  {
   "cell_type": "code",
   "execution_count": 17,
   "metadata": {},
   "outputs": [
    {
     "data": {
      "text/plain": [
       "Usuario    100\n",
       "Texto      100\n",
       "Data       100\n",
       "lixo       100\n",
       "dtype: int64"
      ]
     },
     "execution_count": 17,
     "metadata": {},
     "output_type": "execute_result"
    }
   ],
   "source": [
    "# Excluindo Linhas duplicadas \n",
    "dataset.drop_duplicates(['Texto'],inplace=True)\n",
    "dataset.count()"
   ]
  },
  {
   "cell_type": "markdown",
   "metadata": {},
   "source": [
    "## Pre-Processamento dos Dados\n",
    "* Remove linhas duplicadas na base de dados\n",
    "* Remove Stopwords\n",
    "* Faz Stemming nos dados, dependendo da escolha do parametro \n",
    "* Remove caracteres indesejados como links, pontuação etc."
   ]
  },
  {
   "cell_type": "code",
   "execution_count": 18,
   "metadata": {},
   "outputs": [],
   "source": [
    "tweets = dataset['Texto']"
   ]
  },
  {
   "cell_type": "code",
   "execution_count": 19,
   "metadata": {},
   "outputs": [],
   "source": [
    "def Limpa_emojis(linha):\n",
    "    emoji_counter = 0\n",
    "    data = regex.findall(r'\\X', linha)\n",
    "    for word in data:        \n",
    "        if any(char in emoji.UNICODE_EMOJI for char in word):\n",
    "            # Remove emoji do texto\n",
    "            linha = linha.replace(word, '') \n",
    "    return (linha)"
   ]
  },
  {
   "cell_type": "code",
   "execution_count": null,
   "metadata": {},
   "outputs": [],
   "source": [
    "# https://emojipedia.org/people/\n",
    "# https://www.emoticonsignificado.com.br/lista-emojis-pessoas-whatsapp\n",
    "def Trata_Emojis(linha):\n",
    "    # Dicionário de emojis e emoções\n",
    "    emojis_lista = [('😊', ' feliz '), \n",
    "                    ('🤣', ' super feliz '), \n",
    "                    ('😂', ' achando engraçado demais ')\n",
    "                    ('😢', ' triste ')\n",
    "                    ('😭', ' muito triste ')\n",
    "                    ('😡', ' furioso ')\n",
    "                    ('😱', ' assustado ')\n",
    "                    ('😩', ' chateado ')\n",
    "                    ('😰', ' ansioso ')\n",
    "                    ('🤩', ' encantado')]\n",
    "    emojis_dict = dict(emojis_lista)\n",
    "    \n",
    "    # quebra a linha em caracteres \n",
    "    linha_quebrada = regex.findall(r'\\X', linha)\n",
    "     \n",
    "    for char in linha_quebrada:\n",
    "        if char in emoji.UNICODE_EMOJI:\n",
    "            char_demojize = emoji.demojize(char)\n",
    "            y = emoji.emojize(char_demojize)\n",
    "            emoji_sentimento =  emojis_dict.get(y, ' ')\n",
    "            linha = linha.replace(char, emoji_sentimento)  \n",
    "         \n",
    "    return(linha)"
   ]
  },
  {
   "cell_type": "code",
   "execution_count": 20,
   "metadata": {},
   "outputs": [],
   "source": [
    "def Carrega_Stopwords():\n",
    "    stopwords_nltk = set(nltk.corpus.stopwords.words('portuguese'))\n",
    "    f = open('stop_palavras.txt', 'r', encoding = 'utf-8')\n",
    "    tudo =  f.read()\n",
    "    palavras =  set(tudo.split())\n",
    "    nltk_mais_palavras = stopwords_nltk.union(palavras)\n",
    "    return(nltk_mais_palavras)"
   ]
  },
  {
   "cell_type": "code",
   "execution_count": 21,
   "metadata": {},
   "outputs": [],
   "source": [
    "def Limpa_Texto(instancia):\n",
    "    instancia = instancia.lower()  \n",
    "    acentos = str.maketrans(\"áéíóúâêôãõ\", \"aeiouaeoao\") \n",
    "    instancia = instancia.translate(acentos)\n",
    "    \n",
    "    instancia = Trata_Emojis(instancia)\n",
    "    instancia = re.sub(r'\\|\\|\\|', r'', instancia) \n",
    "    instancia = re.sub(r'http\\S+', r'', instancia)\n",
    "    instancia = re.sub(r'[^a-zA-Z0-9]+', r'', instancia)\n",
    "    instancia = instancia.replace('.','').replace(';','').replace('-','').replace(':','').replace(')','').replace('\"','')    \n",
    "    instancia = instancia.replace('[','').replace(']','').replace('@','').replace('(','').replace('/','')   \n",
    "    instancia = instancia.replace('#','').replace('RT @','').replace('rt cvvoficial','')\n",
    "    instancia = instancia.replace('!','').replace('?','')\n",
    "   \n",
    "    stopwords = Carrega_Stopwords()\n",
    "    palavras = []\n",
    "    for i in instancia.split():\n",
    "        if not i in stopwords:\n",
    "            palavras.append(i)\n",
    "        \n",
    "    return (\" \".join(palavras))"
   ]
  },
  {
   "cell_type": "code",
   "execution_count": 22,
   "metadata": {},
   "outputs": [],
   "source": [
    "def Aplica_Stemizacao(instancia):\n",
    "    palavras = [stemmer.stem(i)  for i in instancia.split()]\n",
    "    return (\" \".join(palavras))"
   ]
  },
  {
   "cell_type": "code",
   "execution_count": 23,
   "metadata": {},
   "outputs": [],
   "source": [
    "# Aplica a função de limpeza de caracteres em todos os dados:\n",
    "tweets = [Limpa_Texto(i) for i in tweets]"
   ]
  },
  {
   "cell_type": "code",
   "execution_count": 24,
   "metadata": {},
   "outputs": [
    {
     "name": "stdout",
     "output_type": "stream",
     "text": [
      "==> ANTES  DO PRE PROCESSAMENTO\n"
     ]
    },
    {
     "data": {
      "text/html": [
       "<div>\n",
       "<style scoped>\n",
       "    .dataframe tbody tr th:only-of-type {\n",
       "        vertical-align: middle;\n",
       "    }\n",
       "\n",
       "    .dataframe tbody tr th {\n",
       "        vertical-align: top;\n",
       "    }\n",
       "\n",
       "    .dataframe thead th {\n",
       "        text-align: right;\n",
       "    }\n",
       "</style>\n",
       "<table border=\"1\" class=\"dataframe\">\n",
       "  <thead>\n",
       "    <tr style=\"text-align: right;\">\n",
       "      <th></th>\n",
       "      <th>Usuario</th>\n",
       "      <th>Texto</th>\n",
       "      <th>Data</th>\n",
       "      <th>lixo</th>\n",
       "    </tr>\n",
       "  </thead>\n",
       "  <tbody>\n",
       "    <tr>\n",
       "      <th>0</th>\n",
       "      <td>Isaa_Artigas</td>\n",
       "      <td>Quando eu lembro q ainda tenho mais três dias p treinar me dá uma tristeza mas Qnd eu treino me dá um alívio kkk ó céus</td>\n",
       "      <td>2020-09-02 01:46:57</td>\n",
       "      <td>\\n</td>\n",
       "    </tr>\n",
       "    <tr>\n",
       "      <th>1</th>\n",
       "      <td>thegealachgorm</td>\n",
       "      <td>Mataram um gatinho de rua de forma maldosa e cruel, eu tô tentando não pensar em como foi a morte, mas tô sentida, ainda mais o cabeça que era um gatinho tão dócil e defensor das outras gatas.</td>\n",
       "      <td>2020-09-02 01:46:55</td>\n",
       "      <td>\\n</td>\n",
       "    </tr>\n",
       "    <tr>\n",
       "      <th>2</th>\n",
       "      <td>X1VOIR</td>\n",
       "      <td>eu n sei se vocês sabem mas setembro amarelo é dedicado a pessoas que sofrem de depressão/problemas psicólogicos, vcs podem SIM mandar um filho da puta se foder</td>\n",
       "      <td>2020-09-02 01:46:54</td>\n",
       "      <td>\\n</td>\n",
       "    </tr>\n",
       "    <tr>\n",
       "      <th>3</th>\n",
       "      <td>ta_kayk</td>\n",
       "      <td>Simplesmente cansei de viver com essa tristeza</td>\n",
       "      <td>2020-09-02 01:46:53</td>\n",
       "      <td>\\n</td>\n",
       "    </tr>\n",
       "    <tr>\n",
       "      <th>4</th>\n",
       "      <td>Tc0Amanda</td>\n",
       "      <td>Dormir pensando que a tristeza vai embora é um caminho sem volta</td>\n",
       "      <td>2020-09-02 01:46:52</td>\n",
       "      <td>\\n</td>\n",
       "    </tr>\n",
       "    <tr>\n",
       "      <th>5</th>\n",
       "      <td>Isacrvlho</td>\n",
       "      <td>Passei o fds me acabando na cachaça pq tava triste com algumas situações aí o fds acabou e o que me resta é um vazio inexplicável e uma tristeza que me consome, aí agora to me acabando tomando a dose dupla das medicações na expectativa de melhorar.</td>\n",
       "      <td>2020-09-02 01:46:50</td>\n",
       "      <td>\\n</td>\n",
       "    </tr>\n",
       "    <tr>\n",
       "      <th>6</th>\n",
       "      <td>ilymilow</td>\n",
       "      <td>vo parar de escutar tristeza e vou dar um bilhão de streams em ice cream pq a lisa é mais importante q isso</td>\n",
       "      <td>2020-09-02 01:46:49</td>\n",
       "      <td>\\n</td>\n",
       "    </tr>\n",
       "    <tr>\n",
       "      <th>7</th>\n",
       "      <td>onemonds</td>\n",
       "      <td>Vejo algumas pessoas falando sobre estar mal ou suicídio e eu tenho tanta vontade de ajudar a pessoa e falar que vai ficar tudo bem, mas tenho muito medo de falar algo errado</td>\n",
       "      <td>2020-09-02 01:46:48</td>\n",
       "      <td>\\n</td>\n",
       "    </tr>\n",
       "    <tr>\n",
       "      <th>8</th>\n",
       "      <td>marii_souzaa_</td>\n",
       "      <td>n adianta falar em setembro \"suicídio não é uma opção\" e o resto do ano atacar pessoas multissexuais q n são bi</td>\n",
       "      <td>2020-09-02 01:46:45</td>\n",
       "      <td>\\n</td>\n",
       "    </tr>\n",
       "    <tr>\n",
       "      <th>9</th>\n",
       "      <td>Mariapaula1003</td>\n",
       "      <td>Só um piercing é capaz de cura minha tristeza</td>\n",
       "      <td>2020-09-02 01:46:45</td>\n",
       "      <td>\\n</td>\n",
       "    </tr>\n",
       "  </tbody>\n",
       "</table>\n",
       "</div>"
      ],
      "text/plain": [
       "          Usuario  \\\n",
       "0  Isaa_Artigas     \n",
       "1  thegealachgorm   \n",
       "2  X1VOIR           \n",
       "3  ta_kayk          \n",
       "4  Tc0Amanda        \n",
       "5  Isacrvlho        \n",
       "6  ilymilow         \n",
       "7  onemonds         \n",
       "8  marii_souzaa_    \n",
       "9  Mariapaula1003   \n",
       "\n",
       "                                                                                                                                                                                                                                                      Texto  \\\n",
       "0  Quando eu lembro q ainda tenho mais três dias p treinar me dá uma tristeza mas Qnd eu treino me dá um alívio kkk ó céus                                                                                                                                    \n",
       "1  Mataram um gatinho de rua de forma maldosa e cruel, eu tô tentando não pensar em como foi a morte, mas tô sentida, ainda mais o cabeça que era um gatinho tão dócil e defensor das outras gatas.                                                           \n",
       "2  eu n sei se vocês sabem mas setembro amarelo é dedicado a pessoas que sofrem de depressão/problemas psicólogicos, vcs podem SIM mandar um filho da puta se foder                                                                                           \n",
       "3  Simplesmente cansei de viver com essa tristeza                                                                                                                                                                                                             \n",
       "4  Dormir pensando que a tristeza vai embora é um caminho sem volta                                                                                                                                                                                           \n",
       "5  Passei o fds me acabando na cachaça pq tava triste com algumas situações aí o fds acabou e o que me resta é um vazio inexplicável e uma tristeza que me consome, aí agora to me acabando tomando a dose dupla das medicações na expectativa de melhorar.   \n",
       "6  vo parar de escutar tristeza e vou dar um bilhão de streams em ice cream pq a lisa é mais importante q isso                                                                                                                                                \n",
       "7  Vejo algumas pessoas falando sobre estar mal ou suicídio e eu tenho tanta vontade de ajudar a pessoa e falar que vai ficar tudo bem, mas tenho muito medo de falar algo errado                                                                             \n",
       "8  n adianta falar em setembro \"suicídio não é uma opção\" e o resto do ano atacar pessoas multissexuais q n são bi                                                                                                                                            \n",
       "9  Só um piercing é capaz de cura minha tristeza                                                                                                                                                                                                              \n",
       "\n",
       "                  Data lixo  \n",
       "0  2020-09-02 01:46:57  \\n   \n",
       "1  2020-09-02 01:46:55  \\n   \n",
       "2  2020-09-02 01:46:54  \\n   \n",
       "3  2020-09-02 01:46:53  \\n   \n",
       "4  2020-09-02 01:46:52  \\n   \n",
       "5  2020-09-02 01:46:50  \\n   \n",
       "6  2020-09-02 01:46:49  \\n   \n",
       "7  2020-09-02 01:46:48  \\n   \n",
       "8  2020-09-02 01:46:45  \\n   \n",
       "9  2020-09-02 01:46:45  \\n   "
      ]
     },
     "execution_count": 24,
     "metadata": {},
     "output_type": "execute_result"
    }
   ],
   "source": [
    "# Expande o tamanho de exibição de coluna de texto\n",
    "print('==> ANTES  DO PRE PROCESSAMENTO')\n",
    "pd.set_option('display.max_colwidth', -1)\n",
    "dataset.head(10)"
   ]
  },
  {
   "cell_type": "code",
   "execution_count": 25,
   "metadata": {},
   "outputs": [
    {
     "name": "stdout",
     "output_type": "stream",
     "text": [
      "==> DEPOIS DO PRE PROCESSAMENTO\n"
     ]
    },
    {
     "data": {
      "text/plain": [
       "['lembro q tres dias p treinar tristeza qnd treino alivio kkk ceus',\n",
       " 'mataram gatinho rua forma maldosa cruel, to tentando nao pensar morte, to sentida, cabeça gatinho tao docil defensor gatas',\n",
       " 'n sei voces sabem setembro amarelo dedicado pessoas sofrem depressaoproblemas psicologicos, vcs podem sim mandar filho puta foder',\n",
       " 'simplesmente cansei viver tristeza',\n",
       " 'dormir pensando tristeza vai embora caminho volta',\n",
       " 'passei fds acabando cachaça pq tava triste situaçoes ai fds acabou resta vazio inexplicavel tristeza consome, ai to acabando tomando dose dupla medicaçoes expectativa melhorar',\n",
       " 'vo parar escutar tristeza vou dar bilhao streams ice cream pq lisa importante q',\n",
       " 'vejo pessoas falando estar mal suicidio tanta vontade ajudar pessoa falar vai ficar bem, medo falar algo errado',\n",
       " 'n adianta falar setembro suicidio nao opçao resto atacar pessoas multissexuais q n sao bi',\n",
       " 'so piercing capaz cura tristeza']"
      ]
     },
     "execution_count": 25,
     "metadata": {},
     "output_type": "execute_result"
    }
   ],
   "source": [
    "print('==> DEPOIS DO PRE PROCESSAMENTO')\n",
    "tweets[:10]"
   ]
  },
  {
   "cell_type": "code",
   "execution_count": 26,
   "metadata": {},
   "outputs": [],
   "source": [
    "#Incluindo a coluna Texto_Limpo no dataset e excluindo colunas Data e Texto\n",
    "dataset['Texto_Limpo'] = tweets\n",
    "dataset.drop('Texto', inplace=True, axis=1)\n",
    "dataset.drop('Data', inplace=True, axis=1)\n",
    "dataset.drop('lixo', inplace=True, axis=1)"
   ]
  },
  {
   "cell_type": "code",
   "execution_count": 27,
   "metadata": {},
   "outputs": [
    {
     "data": {
      "text/html": [
       "<div>\n",
       "<style scoped>\n",
       "    .dataframe tbody tr th:only-of-type {\n",
       "        vertical-align: middle;\n",
       "    }\n",
       "\n",
       "    .dataframe tbody tr th {\n",
       "        vertical-align: top;\n",
       "    }\n",
       "\n",
       "    .dataframe thead th {\n",
       "        text-align: right;\n",
       "    }\n",
       "</style>\n",
       "<table border=\"1\" class=\"dataframe\">\n",
       "  <thead>\n",
       "    <tr style=\"text-align: right;\">\n",
       "      <th></th>\n",
       "      <th>Usuario</th>\n",
       "      <th>Texto_Limpo</th>\n",
       "    </tr>\n",
       "  </thead>\n",
       "  <tbody>\n",
       "    <tr>\n",
       "      <th>0</th>\n",
       "      <td>Isaa_Artigas</td>\n",
       "      <td>lembro q tres dias p treinar tristeza qnd treino alivio kkk ceus</td>\n",
       "    </tr>\n",
       "    <tr>\n",
       "      <th>1</th>\n",
       "      <td>thegealachgorm</td>\n",
       "      <td>mataram gatinho rua forma maldosa cruel, to tentando nao pensar morte, to sentida, cabeça gatinho tao docil defensor gatas</td>\n",
       "    </tr>\n",
       "    <tr>\n",
       "      <th>2</th>\n",
       "      <td>X1VOIR</td>\n",
       "      <td>n sei voces sabem setembro amarelo dedicado pessoas sofrem depressaoproblemas psicologicos, vcs podem sim mandar filho puta foder</td>\n",
       "    </tr>\n",
       "    <tr>\n",
       "      <th>3</th>\n",
       "      <td>ta_kayk</td>\n",
       "      <td>simplesmente cansei viver tristeza</td>\n",
       "    </tr>\n",
       "    <tr>\n",
       "      <th>4</th>\n",
       "      <td>Tc0Amanda</td>\n",
       "      <td>dormir pensando tristeza vai embora caminho volta</td>\n",
       "    </tr>\n",
       "    <tr>\n",
       "      <th>5</th>\n",
       "      <td>Isacrvlho</td>\n",
       "      <td>passei fds acabando cachaça pq tava triste situaçoes ai fds acabou resta vazio inexplicavel tristeza consome, ai to acabando tomando dose dupla medicaçoes expectativa melhorar</td>\n",
       "    </tr>\n",
       "    <tr>\n",
       "      <th>6</th>\n",
       "      <td>ilymilow</td>\n",
       "      <td>vo parar escutar tristeza vou dar bilhao streams ice cream pq lisa importante q</td>\n",
       "    </tr>\n",
       "    <tr>\n",
       "      <th>7</th>\n",
       "      <td>onemonds</td>\n",
       "      <td>vejo pessoas falando estar mal suicidio tanta vontade ajudar pessoa falar vai ficar bem, medo falar algo errado</td>\n",
       "    </tr>\n",
       "    <tr>\n",
       "      <th>8</th>\n",
       "      <td>marii_souzaa_</td>\n",
       "      <td>n adianta falar setembro suicidio nao opçao resto atacar pessoas multissexuais q n sao bi</td>\n",
       "    </tr>\n",
       "    <tr>\n",
       "      <th>9</th>\n",
       "      <td>Mariapaula1003</td>\n",
       "      <td>so piercing capaz cura tristeza</td>\n",
       "    </tr>\n",
       "  </tbody>\n",
       "</table>\n",
       "</div>"
      ],
      "text/plain": [
       "          Usuario  \\\n",
       "0  Isaa_Artigas     \n",
       "1  thegealachgorm   \n",
       "2  X1VOIR           \n",
       "3  ta_kayk          \n",
       "4  Tc0Amanda        \n",
       "5  Isacrvlho        \n",
       "6  ilymilow         \n",
       "7  onemonds         \n",
       "8  marii_souzaa_    \n",
       "9  Mariapaula1003   \n",
       "\n",
       "                                                                                                                                                                       Texto_Limpo  \n",
       "0  lembro q tres dias p treinar tristeza qnd treino alivio kkk ceus                                                                                                                 \n",
       "1  mataram gatinho rua forma maldosa cruel, to tentando nao pensar morte, to sentida, cabeça gatinho tao docil defensor gatas                                                       \n",
       "2  n sei voces sabem setembro amarelo dedicado pessoas sofrem depressaoproblemas psicologicos, vcs podem sim mandar filho puta foder                                                \n",
       "3  simplesmente cansei viver tristeza                                                                                                                                               \n",
       "4  dormir pensando tristeza vai embora caminho volta                                                                                                                                \n",
       "5  passei fds acabando cachaça pq tava triste situaçoes ai fds acabou resta vazio inexplicavel tristeza consome, ai to acabando tomando dose dupla medicaçoes expectativa melhorar  \n",
       "6  vo parar escutar tristeza vou dar bilhao streams ice cream pq lisa importante q                                                                                                  \n",
       "7  vejo pessoas falando estar mal suicidio tanta vontade ajudar pessoa falar vai ficar bem, medo falar algo errado                                                                  \n",
       "8  n adianta falar setembro suicidio nao opçao resto atacar pessoas multissexuais q n sao bi                                                                                        \n",
       "9  so piercing capaz cura tristeza                                                                                                                                                  "
      ]
     },
     "execution_count": 27,
     "metadata": {},
     "output_type": "execute_result"
    }
   ],
   "source": [
    "dataset.head(10)"
   ]
  },
  {
   "cell_type": "code",
   "execution_count": 28,
   "metadata": {},
   "outputs": [],
   "source": [
    "#os.chdir('C:\\\\Users\\\\particular\\\\SERIQUE_TCC\\\\AGOSTO\\\\')\n",
    "separator = ';'\n",
    "dataset.to_csv('total_arquivos_limpo.csv', sep=separator)"
   ]
  },
  {
   "cell_type": "markdown",
   "metadata": {},
   "source": [
    "### ==> CLASSIFICANDO TWITTERS\n"
   ]
  },
  {
   "cell_type": "markdown",
   "metadata": {},
   "source": [
    "##### Recuperando o Modelo Classificador"
   ]
  },
  {
   "cell_type": "code",
   "execution_count": 29,
   "metadata": {},
   "outputs": [],
   "source": [
    "# para modificar o diretório ...\n",
    "#os.chdir('C:\\\\Users\\\\particular\\\\SERIQUE_TCC\\\\FINAL DA POS\\\\')"
   ]
  },
  {
   "cell_type": "code",
   "execution_count": 30,
   "metadata": {},
   "outputs": [],
   "source": [
    "# lê o modelo vencedor que foi criado no programa Analise_Sentimento_Final_Tres\n",
    "import pickle\n",
    "\n",
    "# carrega modelo\n",
    "clf = pickle.load(open('model_LinearSVC.pickle', 'rb'))\n",
    "\n",
    "# carrega tfidf\n",
    "tfidf = pickle.load(open('tfidf_file.pickle', 'rb'))"
   ]
  },
  {
   "cell_type": "code",
   "execution_count": 31,
   "metadata": {},
   "outputs": [
    {
     "data": {
      "text/plain": [
       "'Positiva'"
      ]
     },
     "execution_count": 31,
     "metadata": {},
     "output_type": "execute_result"
    }
   ],
   "source": [
    "#  dicionário que permite a pesquisa pelo número \n",
    "id_to_Polaridade = {0:'Neutra', 1:'Positiva' , 2:'Neutra' }\n",
    "id_to_Polaridade[1]"
   ]
  },
  {
   "cell_type": "markdown",
   "metadata": {},
   "source": [
    "## Testando prá ver o modelo está ok"
   ]
  },
  {
   "cell_type": "code",
   "execution_count": 32,
   "metadata": {},
   "outputs": [
    {
     "name": "stdout",
     "output_type": "stream",
     "text": [
      "\"Estou em beco sem saida, o unico jeito é tomar todos comprimidos e dormir para sempre.\"\n",
      "  - Classificada como: 'Positiva'\n",
      "  - O correto é      : 'Positiva'\n",
      "\n",
      "\"Estranho que não sinto forças para levantar da cama. Preciso de ajuda.\"\n",
      "  - Classificada como: 'Positiva'\n",
      "  - O correto é      : 'Positiva'\n",
      "\n",
      "\"Adoro viver, cantar e sorrir todo dia.\"\n",
      "  - Classificada como: 'Negativa'\n",
      "  - O correto é      : 'Negativa'\n",
      "\n",
      "\"Minha vida é um pesadelo imenso, estou muito triste.\"\n",
      "  - Classificada como: 'Positiva'\n",
      "  - O correto é      : 'Positiva'\n",
      "\n",
      "\"O jogo foi adiado para amanhã.\"\n",
      "  - Classificada como: 'Neutra'\n",
      "  - O correto é      : 'Neutra'\n",
      "\n",
      "--------------------------------------------------\n",
      "acertou =  5 / 5\n",
      "--------------------------------------------------\n"
     ]
    }
   ],
   "source": [
    "# Dicionário para polaridade  \n",
    "id_to_Polaridade = {0: 'Negativa', 1: 'Positiva', 2: 'Neutra'}\n",
    "\n",
    "texts = [\"Estou em beco sem saida, o unico jeito é tomar todos comprimidos e dormir para sempre.\",\n",
    "         \"Estranho que não sinto forças para levantar da cama. Preciso de ajuda.\",\n",
    "         \"Adoro viver, cantar e sorrir todo dia.\", \n",
    "          \"Minha vida é um pesadelo imenso, estou muito triste.\", \n",
    "          \"O jogo foi adiado para amanhã.\"]\n",
    "corretas = [1, 1, 0, 1, 2]\n",
    "\n",
    "text_features = tfidf.transform(texts)\n",
    "\n",
    "nr = 0 \n",
    "acertou = 0 \n",
    "predictions = clf.predict(text_features)\n",
    "for text, predicted in zip(texts, predictions):\n",
    "    print('\"{}\"'.format(text))\n",
    "    print(\"  - Classificada como: '{}'\".format(id_to_Polaridade[predicted]))\n",
    "    print(\"  - O correto é      : '{}'\".format(id_to_Polaridade[corretas[nr]]))\n",
    "    print(\"\")\n",
    "    if predicted == corretas[nr]:\n",
    "        acertou += 1\n",
    "    nr += 1\n",
    "print('-' * 50)\n",
    "print('acertou = ', acertou,  '/', len(texts)) \n",
    "print('-' * 50)"
   ]
  },
  {
   "cell_type": "markdown",
   "metadata": {},
   "source": [
    "## Agora vamos aplicar o classificador nos twitters"
   ]
  },
  {
   "cell_type": "code",
   "execution_count": 33,
   "metadata": {},
   "outputs": [],
   "source": [
    "# transformando o texto em lista para poder passar ao classificador\n",
    "lst_Texto_Limpo = dataset.Texto_Limpo.tolist()"
   ]
  },
  {
   "cell_type": "code",
   "execution_count": 34,
   "metadata": {},
   "outputs": [
    {
     "data": {
      "text/plain": [
       "['lembro q tres dias p treinar tristeza qnd treino alivio kkk ceus',\n",
       " 'mataram gatinho rua forma maldosa cruel, to tentando nao pensar morte, to sentida, cabeça gatinho tao docil defensor gatas',\n",
       " 'n sei voces sabem setembro amarelo dedicado pessoas sofrem depressaoproblemas psicologicos, vcs podem sim mandar filho puta foder',\n",
       " 'simplesmente cansei viver tristeza',\n",
       " 'dormir pensando tristeza vai embora caminho volta']"
      ]
     },
     "execution_count": 34,
     "metadata": {},
     "output_type": "execute_result"
    }
   ],
   "source": [
    "lst_Texto_Limpo[:5]"
   ]
  },
  {
   "cell_type": "code",
   "execution_count": 35,
   "metadata": {},
   "outputs": [],
   "source": [
    "Twitter_features = tfidf.transform(lst_Texto_Limpo)"
   ]
  },
  {
   "cell_type": "code",
   "execution_count": 36,
   "metadata": {},
   "outputs": [],
   "source": [
    "predictions = clf.predict(Twitter_features)"
   ]
  },
  {
   "cell_type": "code",
   "execution_count": 37,
   "metadata": {},
   "outputs": [
    {
     "name": "stdout",
     "output_type": "stream",
     "text": [
      "\"lembro q tres dias p treinar tristeza qnd treino alivio kkk ceus\"\n",
      "  - Tendência desse Twitter é: 'Neutra'\n",
      "\n",
      "\"mataram gatinho rua forma maldosa cruel, to tentando nao pensar morte, to sentida, cabeça gatinho tao docil defensor gatas\"\n",
      "  - Tendência desse Twitter é: 'Neutra'\n",
      "\n",
      "\"n sei voces sabem setembro amarelo dedicado pessoas sofrem depressaoproblemas psicologicos, vcs podem sim mandar filho puta foder\"\n",
      "  - Tendência desse Twitter é: 'Negativa'\n",
      "\n",
      "\"simplesmente cansei viver tristeza\"\n",
      "  - Tendência desse Twitter é: 'Positiva'\n",
      "\n",
      "\"dormir pensando tristeza vai embora caminho volta\"\n",
      "  - Tendência desse Twitter é: 'Positiva'\n",
      "\n",
      "\"passei fds acabando cachaça pq tava triste situaçoes ai fds acabou resta vazio inexplicavel tristeza consome, ai to acabando tomando dose dupla medicaçoes expectativa melhorar\"\n",
      "  - Tendência desse Twitter é: 'Neutra'\n",
      "\n",
      "\"vo parar escutar tristeza vou dar bilhao streams ice cream pq lisa importante q\"\n",
      "  - Tendência desse Twitter é: 'Neutra'\n",
      "\n",
      "\"vejo pessoas falando estar mal suicidio tanta vontade ajudar pessoa falar vai ficar bem, medo falar algo errado\"\n",
      "  - Tendência desse Twitter é: 'Neutra'\n",
      "\n",
      "\"n adianta falar setembro suicidio nao opçao resto atacar pessoas multissexuais q n sao bi\"\n",
      "  - Tendência desse Twitter é: 'Neutra'\n",
      "\n",
      "\"so piercing capaz cura tristeza\"\n",
      "  - Tendência desse Twitter é: 'Negativa'\n",
      "\n",
      "\"sei quero morte bem top tlgd bem radical\"\n",
      "  - Tendência desse Twitter é: 'Neutra'\n",
      "\n",
      "\"infinito ha estrelas ceu tristeza terra noites voce vive so existe\"\n",
      "  - Tendência desse Twitter é: 'Negativa'\n",
      "\n",
      "\"beira morte apenas karaoke bebida salvar\"\n",
      "  - Tendência desse Twitter é: 'Neutra'\n",
      "\n",
      "\"una tristeza\"\n",
      "  - Tendência desse Twitter é: 'Neutra'\n",
      "\n",
      "\"maze in the mirror txt aaaaaaaaaaaa tristeza vo mata\"\n",
      "  - Tendência desse Twitter é: 'Positiva'\n",
      "\n",
      "\"eso es quiero shirabu sea virgo osea tienen idea tristeza sea virgo osea voy vivir asi esto es realidad shirabu es virgo shirabu es virgo\"\n",
      "  - Tendência desse Twitter é: 'Neutra'\n",
      "\n",
      "\"ameniza solidao certeza nao to dopado meio escuridao mente virou divisao briga\"\n",
      "  - Tendência desse Twitter é: 'Positiva'\n",
      "\n",
      "\"chocado morte mae amiga, parece consigo sentir dor\"\n",
      "  - Tendência desse Twitter é: 'Positiva'\n",
      "\n",
      "\"j’ai relus messages, je suis morte rire chaque fois qu’il remballe je l’aime trop zebi\"\n",
      "  - Tendência desse Twitter é: 'Negativa'\n",
      "\n",
      "\"setembro amarelo ai ja aviso q postando correntinha inteiro caga pra suicidio problemas psicologico vai estresse cmg abraços\"\n",
      "  - Tendência desse Twitter é: 'Neutra'\n",
      "\n",
      "\"achei musica tao bonita sigo suicidio\"\n",
      "  - Tendência desse Twitter é: 'Neutra'\n",
      "\n",
      "\"achei foto maquiada pre macario ai q tristeza\"\n",
      "  - Tendência desse Twitter é: 'Neutra'\n",
      "\n",
      "\"hoje 5 pessoas leader encerraram ciclos, incrivel felicidade galera saido tristeza empresa so perdendo funcionarios bons\"\n",
      "  - Tendência desse Twitter é: 'Negativa'\n",
      "\n",
      "\"tristeza terminar avatar lenda aang novamente\"\n",
      "  - Tendência desse Twitter é: 'Negativa'\n",
      "\n",
      "\"burra nao aguento nao entendo nada tristeza lagrimas noite\"\n",
      "  - Tendência desse Twitter é: 'Negativa'\n",
      "\n",
      "\"tanto story oferecendo espaço conversar ate curada depressao\"\n",
      "  - Tendência desse Twitter é: 'Negativa'\n",
      "\n",
      "\"vencendo depressao conquistando paz medium isabel salomao campos video completo canal isabelsalomaodecampos paz peace depressao depression depresion\"\n",
      "  - Tendência desse Twitter é: 'Negativa'\n",
      "\n",
      "\"dia tristeza diferente\"\n",
      "  - Tendência desse Twitter é: 'Positiva'\n",
      "\n",
      "\"ler tweet deu 4 tipo depressao diferente trouxe recordaçoes\"\n",
      "  - Tendência desse Twitter é: 'Neutra'\n",
      "\n",
      "\"causa casos acontecem inteiro, vao esperar chegar setembro, falarem suicidio\"\n",
      "  - Tendência desse Twitter é: 'Neutra'\n",
      "\n",
      "\"bom post sai depressao\"\n",
      "  - Tendência desse Twitter é: 'Negativa'\n",
      "\n",
      "\"circulo oraçao morte\"\n",
      "  - Tendência desse Twitter é: 'Neutra'\n",
      "\n",
      "\"morte satanas habitat\"\n",
      "  - Tendência desse Twitter é: 'Neutra'\n",
      "\n",
      "\"enfim morte\"\n",
      "  - Tendência desse Twitter é: 'Neutra'\n",
      "\n",
      "\"ya dejen usar temas tan delicados el suicidio bromear real con suicidios, violaciones, eating disorders etc bromea\"\n",
      "  - Tendência desse Twitter é: 'Neutra'\n",
      "\n",
      "\"vai mundo ficar depressao cmg\"\n",
      "  - Tendência desse Twitter é: 'Negativa'\n",
      "\n",
      "\"alice curou depressao\"\n",
      "  - Tendência desse Twitter é: 'Negativa'\n",
      "\n",
      "\"vc vai ficar deprimido, angustiado, ancioso sentir fortes dores estomago pq nervosismo tristeza tanta impede comer qualquer pq qualquer cheiro ancia ate agua\"\n",
      "  - Tendência desse Twitter é: 'Positiva'\n",
      "\n",
      "\"nao assistir romance pq bate depressao\"\n",
      "  - Tendência desse Twitter é: 'Positiva'\n",
      "\n",
      "\"falei cidadao mega profissional nao doente mental doença normal igual tratada nao sofrendo igual dez anos marilia sp tomando remedio depressao abandonei depresso anciedade vou especial casando v fatores\"\n",
      "  - Tendência desse Twitter é: 'Negativa'\n",
      "\n",
      "\"serio q tristeza\"\n",
      "  - Tendência desse Twitter é: 'Neutra'\n",
      "\n",
      "\"23 anos vida, ja • sofri abuso sexual psicologico • traumatizada separaçao pais desde 7 anos • passei vida inteira rejeitada pais • sofro depressao desde 11 anos • ja tentei suicidio 3x adolescencia\"\n",
      "  - Tendência desse Twitter é: 'Positiva'\n",
      "\n",
      "\"suicidio, depressao, ansiedade etc n acontece so setembro\"\n",
      "  - Tendência desse Twitter é: 'Neutra'\n",
      "\n",
      "\"q horrivel criar conta nova humor depressao\"\n",
      "  - Tendência desse Twitter é: 'Negativa'\n",
      "\n",
      "\"qualquer tristeza bate vamos rever twd ne mores\"\n",
      "  - Tendência desse Twitter é: 'Positiva'\n",
      "\n",
      "\"obrigado tarrais compartilhar podcast profundidade beleza estrangeiros sentem empatia terem trilhado duras penas caminho solidao fez recordar viagem campos refugio uganda igrejas compartilham fe som unissono\"\n",
      "  - Tendência desse Twitter é: 'Positiva'\n",
      "\n",
      "\"septiembre con s suicidio\"\n",
      "  - Tendência desse Twitter é: 'Neutra'\n",
      "\n",
      "\"so pensar nao vou tao cedo bate tristeza kkkkk\"\n",
      "  - Tendência desse Twitter é: 'Positiva'\n",
      "\n",
      "\"ansioso pra contar oq passei depressao ansiedade\"\n",
      "  - Tendência desse Twitter é: 'Positiva'\n",
      "\n",
      "\"vou superar morte personagem foda caralho, inaceitavel pra porra\"\n",
      "  - Tendência desse Twitter é: 'Negativa'\n",
      "\n",
      "\"tristeza pobre perder vt\"\n",
      "  - Tendência desse Twitter é: 'Neutra'\n",
      "\n",
      "\"terminaron los lamentos termino tristeza un mundo oportunidades asoma vida es valientes, sueñan, aman, agigantan las adversidades\"\n",
      "  - Tendência desse Twitter é: 'Negativa'\n",
      "\n",
      "\"deu pra perceber depressao, tristeza gduvivier gravar episodio damares mostrar pro povo conseguindo almejou obrigado abrir olhos nao piada\"\n",
      "  - Tendência desse Twitter é: 'Negativa'\n",
      "\n",
      "\"voce q ta depressao, leito hospital agradeça deus\"\n",
      "  - Tendência desse Twitter é: 'Neutra'\n",
      "\n",
      "\"setembro amarelo continuo depressao querendo matar\"\n",
      "  - Tendência desse Twitter é: 'Positiva'\n",
      "\n",
      "\"depressao pq to ngm pra assistir american horror story\"\n",
      "  - Tendência desse Twitter é: 'Neutra'\n",
      "\n",
      "\"tristeza, maioria vezes sao legais sao chatos sao alem conta\"\n",
      "  - Tendência desse Twitter é: 'Positiva'\n",
      "\n",
      "\"sorriso rosto pra esconder tristeza habita dentro mim\"\n",
      "  - Tendência desse Twitter é: 'Positiva'\n",
      "\n",
      "\"y recuerden trabajo artistico vaya en moral, induzca pensamiento critico atente en del buen gusto va ser censurado y al artista habra desearle el suicidio, indecoroso y degenerado\"\n",
      "  - Tendência desse Twitter é: 'Negativa'\n",
      "\n",
      "\"solidao moderna, gostamos ficar alturas nao sabemos descer\"\n",
      "  - Tendência desse Twitter é: 'Positiva'\n",
      "\n",
      "\"toma cu vim andar skate primeira trick cai mamute falido ralei cara, vai foder deu ate depressao porra, favor respeitar\"\n",
      "  - Tendência desse Twitter é: 'Neutra'\n",
      "\n",
      "\"tristeza\"\n",
      "  - Tendência desse Twitter é: 'Neutra'\n",
      "\n",
      "\"latin vulgate mortem mortem mortem vivere morte mortem satanae\"\n",
      "  - Tendência desse Twitter é: 'Neutra'\n",
      "\n",
      "\"hoje 32a morte motivos covid sousapb sousapb\"\n",
      "  - Tendência desse Twitter é: 'Positiva'\n",
      "\n",
      "\"sentia ganas d llorar, pero salia ninguna lagrima solo una especie d tristeza, d nauseas, una mezcla d una con otra, hay nada peor creo q sabes q quiero decir, el mundo, vuelve y media, pasa eso, excepto q conmigo es muy frecuente, pasa demasiado\"\n",
      "  - Tendência desse Twitter é: 'Neutra'\n",
      "\n",
      "\"estoy demasiado triste averiguar quien es puta y quien es marihuanera hablan, tristeza permite ni chismosear\"\n",
      "  - Tendência desse Twitter é: 'Neutra'\n",
      "\n",
      "\"le morte d'joe\"\n",
      "  - Tendência desse Twitter é: 'Positiva'\n",
      "\n",
      "\"pior perder alguem pro suicidio, doi demais, passado perdi dois amigos ate doi\"\n",
      "  - Tendência desse Twitter é: 'Positiva'\n",
      "\n",
      "\"dia dm thuanay pra deixar depressao\"\n",
      "  - Tendência desse Twitter é: 'Negativa'\n",
      "\n",
      "\"vontade daquilo começa s termina suicidio\"\n",
      "  - Tendência desse Twitter é: 'Positiva'\n",
      "\n",
      "\"marcou favorito morte mesopotamia skoob\"\n",
      "  - Tendência desse Twitter é: 'Neutra'\n",
      "\n",
      "\"palavras sao, nao tao humilde opiniao, inesgotavel fonte magia capazes ferir curar harry potter reliquias morte harrypotter\"\n",
      "  - Tendência desse Twitter é: 'Negativa'\n",
      "\n",
      "\"setembro amarelo acho valido lembrar vc realmente importa cm depressao ansiedade entao indica trampo\"\n",
      "  - Tendência desse Twitter é: 'Negativa'\n",
      "\n",
      "\"amor deus filme quase rockstar achando filme musica felizes sai depressao\"\n",
      "  - Tendência desse Twitter é: 'Negativa'\n",
      "\n",
      "\"prequel editor fav atualizou ta bosta puta merda tristeza\"\n",
      "  - Tendência desse Twitter é: 'Neutra'\n",
      "\n",
      "\"juro n aguento votr q morte\"\n",
      "  - Tendência desse Twitter é: 'Positiva'\n",
      "\n",
      "\"mensagem revelou morte chadwick boseman torna tweet curtido historia\"\n",
      "  - Tendência desse Twitter é: 'Neutra'\n",
      "\n",
      "\"noite sonhei ferna*da mo*tenegro tava apedrejada apos fugir cadeia falava assim momentos começarem trai voces vida, voces estao traindo hora morte tipo quero alguem q fale significado bizarrice\"\n",
      "  - Tendência desse Twitter é: 'Negativa'\n",
      "\n",
      "\"gustaria towa y setsuna lograran hacerle expresar cosas sesshomaru tristeza, celos, alegria, preocupacion algo el inudaiyokai aprendio desde niño\"\n",
      "  - Tendência desse Twitter é: 'Positiva'\n",
      "\n",
      "\"sim gente proprio fandomndo gf ta puto serem totalmente incompetentes preguiçosos, eh tristeza so buddysareoverparty\"\n",
      "  - Tendência desse Twitter é: 'Positiva'\n",
      "\n",
      "\"tristeza mulher q nao consegue dormir cedo\"\n",
      "  - Tendência desse Twitter é: 'Positiva'\n",
      "\n",
      "\"mano sim kkkkkkkk tristeza pai\"\n",
      "  - Tendência desse Twitter é: 'Positiva'\n",
      "\n",
      "\"vezes tristeza motivos, mass nada vai abalar\"\n",
      "  - Tendência desse Twitter é: 'Positiva'\n",
      "\n",
      "\"incrivel qualquer problema quero resolver tomando banho quentinho pra tristeza passa\"\n",
      "  - Tendência desse Twitter é: 'Neutra'\n",
      "\n",
      "\"acho tao chique q pessoas q sigo aq insta parecem ta super bem,felizes tals chego tt delas, tao quase morrendo tristeza igual kkkk\"\n",
      "  - Tendência desse Twitter é: 'Neutra'\n",
      "\n",
      "\"vivi pra messi ser contratado causa dvd tristeza pra cerebro\"\n",
      "  - Tendência desse Twitter é: 'Positiva'\n",
      "\n",
      "\"nn sei chorei luanzin indo simbora morte joel\"\n",
      "  - Tendência desse Twitter é: 'Positiva'\n",
      "\n",
      "\"perdi 4kgs 5 dias segredo conto depressao\"\n",
      "  - Tendência desse Twitter é: 'Negativa'\n",
      "\n",
      "\"storie daisy chorando fundo curaria depressao\"\n",
      "  - Tendência desse Twitter é: 'Neutra'\n",
      "\n",
      "\"ai so tristeza\"\n",
      "  - Tendência desse Twitter é: 'Negativa'\n",
      "\n",
      "\"feliz novamente q depressao deus\"\n",
      "  - Tendência desse Twitter é: 'Negativa'\n",
      "\n",
      "\"quanta tristeza nesse twitter'\"\n",
      "  - Tendência desse Twitter é: 'Neutra'\n",
      "\n",
      "\"dona morte ce tanta sorte livrar lugar\"\n",
      "  - Tendência desse Twitter é: 'Neutra'\n",
      "\n",
      "\"acredito engordei 9 kg, tristeza\"\n",
      "  - Tendência desse Twitter é: 'Neutra'\n",
      "\n",
      "\"homem bate punheta pe homem ja nao teme morte\"\n",
      "  - Tendência desse Twitter é: 'Positiva'\n",
      "\n",
      "\"comece falsidade setembroamarelo, mundo setembro importa suicidio amigo ta sofrendo pensando matar fala frescura\"\n",
      "  - Tendência desse Twitter é: 'Negativa'\n",
      "\n",
      "\"depressao pensar vo 20 anos daqui\"\n",
      "  - Tendência desse Twitter é: 'Neutra'\n",
      "\n",
      "\"menina entra depressao apos fotos antigas namorado cabelo grande, entenda caso\"\n",
      "  - Tendência desse Twitter é: 'Positiva'\n",
      "\n",
      "\"q u r morrer suicidio pecado deixa amigos triste\"\n",
      "  - Tendência desse Twitter é: 'Positiva'\n",
      "\n",
      "\"lindo video sai depressao\"\n",
      "  - Tendência desse Twitter é: 'Negativa'\n",
      "\n",
      "conta_positiva= 32\n",
      "conta_negativa= 28\n",
      "conta_neutra= 40\n"
     ]
    }
   ],
   "source": [
    "conta_positiva = 0 \n",
    "conta_negativa = 0\n",
    "conta_neutra   = 0\n",
    "\n",
    "for text, predicted in zip(lst_Texto_Limpo, predictions):\n",
    "    print('\"{}\"'.format(text))\n",
    "    print(\"  - Tendência desse Twitter é: '{}'\".format(id_to_Polaridade[predicted]))\n",
    "    print(\"\")\n",
    "\n",
    "    # contando quantas classificações Positiva, Negativa e Neutra\n",
    "    if (id_to_Polaridade[predicted] == 'Positiva'):\n",
    "        conta_positiva += 1;\n",
    "    elif (id_to_Polaridade[predicted] == 'Negativa'):\n",
    "        conta_negativa += 1;\n",
    "    else:\n",
    "        conta_neutra += 1\n",
    "        \n",
    "print('conta_positiva=', conta_positiva)\n",
    "print('conta_negativa=', conta_negativa)\n",
    "print('conta_neutra=', conta_neutra)"
   ]
  },
  {
   "cell_type": "code",
   "execution_count": 38,
   "metadata": {},
   "outputs": [
    {
     "data": {
      "image/png": "[encoded data removed]",
      "text/plain": [
       "<Figure size 432x288 with 1 Axes>"
      ]
     },
     "metadata": {
      "needs_background": "light"
     },
     "output_type": "display_data"
    }
   ],
   "source": [
    "%matplotlib inline  \n",
    "import numpy as np\n",
    "import matplotlib.pyplot as plt\n",
    "\n",
    "# Visualização dos resultados de forma gráfica\n",
    "modelos  = ['LinearSVC']\n",
    "positivo = [conta_positiva]\n",
    "negativo = [conta_negativa]\n",
    "neutro = [conta_neutra]\n",
    "x = np.arange(len(positivo))\n",
    " \n",
    "width = 0.25\n",
    "\n",
    "fig, ax = plt.subplots()\n",
    "rects1 = ax.bar(x - width/3 + 0.30, positivo, width, label='Suicida', color = 'r')\n",
    "rects2 = ax.bar(x , negativo, width, label='Nao_Suicida', color = 'b' )\n",
    "rects3 = ax.bar(x + width/3 + 0.30, neutro, width, label='Neutro', color = 'g' )\n",
    "ax.set_ylabel('Total de Tweets')\n",
    "ax.set_title('Tweets Classificados Pelo Modelo')\n",
    "ax.set_xticks(x)\n",
    "ax.set_xticklabels(modelos)\n",
    "ax.legend()\n",
    "def autolabel(rects):\n",
    "    for rect in rects:\n",
    "        height = rect.get_height()\n",
    "        ax.annotate('{}'.format(height),\n",
    "                    xy=(rect.get_x() + rect.get_width() / 3, height),\n",
    "                    xytext=(0, 3), \n",
    "                    textcoords=\"offset points\",\n",
    "                    ha='center', va='bottom')\n",
    "autolabel(rects1)\n",
    "autolabel(rects2)\n",
    "autolabel(rects3)\n",
    "fig.tight_layout()\n",
    "plt.show()"
   ]
  },
  {
   "cell_type": "code",
   "execution_count": 39,
   "metadata": {},
   "outputs": [
    {
     "name": "stdout",
     "output_type": "stream",
     "text": [
      "*** A C A B E I ***\n"
     ]
    }
   ],
   "source": [
    "print('*** A C A B E I ***')"
   ]
  }
 ],
 "metadata": {
  "kernelspec": {
   "display_name": "Python 3",
   "language": "python",
   "name": "python3"
  },
  "language_info": {
   "codemirror_mode": {
    "name": "ipython",
    "version": 3
   },
   "file_extension": ".py",
   "mimetype": "text/x-python",
   "name": "python",
   "nbconvert_exporter": "python",
   "pygments_lexer": "ipython3",
   "version": "3.7.3"
  }
 },
 "nbformat": 4,
 "nbformat_minor": 2
}
